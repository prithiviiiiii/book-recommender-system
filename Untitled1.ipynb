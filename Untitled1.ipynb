{
 "cells": [
  {
   "cell_type": "code",
   "execution_count": 2,
   "id": "25e27d71-a848-4625-95f3-b1f06ee10e67",
   "metadata": {},
   "outputs": [
    {
     "name": "stdout",
     "output_type": "stream",
     "text": [
      "Done!\n"
     ]
    }
   ],
   "source": [
    "import requests\n",
    "from bs4 import BeautifulSoup\n",
    "from pandas import DataFrame\n",
    "\n",
    "# Url Goes here\n",
    "\n",
    "url = 'https://summerofcode.withgoogle.com/organizations/'\n",
    "\n",
    "r = requests.get(url)\n",
    "\n",
    "soup = BeautifulSoup(r.content, 'html.parser')\n",
    "\n",
    "rows = soup.select('section div ul li')\n",
    "\n",
    "link_list = []\n",
    "\n",
    "for row in rows:\n",
    "    abc = 'https://summerofcode.withgoogle.com' + row.select_one('a')['href']\n",
    "    link_list.append(abc)\n",
    "\n",
    "OrgName = []\n",
    "Contactlink = []\n",
    "techlist = []\n",
    "slots = []\n",
    "ideas = []\n",
    "\n",
    "for org_url in link_list:\n",
    "    lisat = []\n",
    "    r = requests.get(org_url)\n",
    "    soup = BeautifulSoup(r.text, 'html.parser')\n",
    "    org = soup.find('div', class_=\"banner__text\")\n",
    "    OrgName.append(f\"=HYPERLINK(\\\"{org_url}\\\",\\\"{org.h3.text}\\\")\")\n",
    "    technologies = soup.find_all('li', class_=\"organization__tag--technology\")\n",
    "    for technology in technologies:\n",
    "        lisat.append(technology.text)\n",
    "    mys = ', '.join(lisat)\n",
    "    techlist.append(mys)\n",
    "    irc = soup.select_one(\".org__meta-button\")['href']\n",
    "    Contactlink.append(irc)\n",
    "    projects = soup.find('ul', class_=\"project-list-container\")\n",
    "    slot = projects.findChildren('li')\n",
    "    slots.append(len(slot))\n",
    "    idea = soup.select_one(\".org__button-container md-button\")['href']\n",
    "    # idea = ideas[0].select_one('md-button')['href']\n",
    "    ideas.append(idea)\n",
    "\n",
    "# table\n",
    "\n",
    "table = {'Org': OrgName, 'Technologies': techlist,\n",
    "         'Slots': slots, 'Ideas Page': ideas, 'Contact': Contactlink}\n",
    "\n",
    "# csv export\n",
    "\n",
    "df = DataFrame(table)\n",
    "export_csv = df.to_csv(r'2020-orgs.csv')\n",
    "\n",
    "print(r'Done!')"
   ]
  },
  {
   "cell_type": "code",
   "execution_count": 6,
   "id": "ece324ff-5723-4255-8e03-292e91680269",
   "metadata": {},
   "outputs": [
    {
     "name": "stdout",
     "output_type": "stream",
     "text": [
      " * Serving Flask app '__main__'\n",
      " * Debug mode: on\n"
     ]
    },
    {
     "name": "stderr",
     "output_type": "stream",
     "text": [
      "WARNING: This is a development server. Do not use it in a production deployment. Use a production WSGI server instead.\n",
      " * Running on http://127.0.0.1:5000\n",
      "Press CTRL+C to quit\n",
      " * Restarting with watchdog (fsevents)\n",
      "0.00s - Debugger warning: It seems that frozen modules are being used, which may\n",
      "0.00s - make the debugger miss breakpoints. Please pass -Xfrozen_modules=off\n",
      "0.00s - to python to disable frozen modules.\n",
      "0.00s - Note: Debugging will proceed. Set PYDEVD_DISABLE_FILE_VALIDATION=1 to disable this validation.\n",
      "Traceback (most recent call last):\n",
      "  File \"<frozen runpy>\", line 198, in _run_module_as_main\n",
      "  File \"<frozen runpy>\", line 88, in _run_code\n",
      "  File \"/opt/anaconda3/lib/python3.12/site-packages/ipykernel_launcher.py\", line 17, in <module>\n",
      "    app.launch_new_instance()\n",
      "  File \"/opt/anaconda3/lib/python3.12/site-packages/traitlets/config/application.py\", line 1074, in launch_instance\n",
      "    app.initialize(argv)\n",
      "  File \"/opt/anaconda3/lib/python3.12/site-packages/traitlets/config/application.py\", line 118, in inner\n",
      "    return method(app, *args, **kwargs)\n",
      "           ^^^^^^^^^^^^^^^^^^^^^^^^^^^^\n",
      "  File \"/opt/anaconda3/lib/python3.12/site-packages/ipykernel/kernelapp.py\", line 654, in initialize\n",
      "    self.init_sockets()\n",
      "  File \"/opt/anaconda3/lib/python3.12/site-packages/ipykernel/kernelapp.py\", line 331, in init_sockets\n",
      "    self.shell_port = self._bind_socket(self.shell_socket, self.shell_port)\n",
      "                      ^^^^^^^^^^^^^^^^^^^^^^^^^^^^^^^^^^^^^^^^^^^^^^^^^^^^^\n",
      "  File \"/opt/anaconda3/lib/python3.12/site-packages/ipykernel/kernelapp.py\", line 253, in _bind_socket\n",
      "    return self._try_bind_socket(s, port)\n",
      "           ^^^^^^^^^^^^^^^^^^^^^^^^^^^^^^\n",
      "  File \"/opt/anaconda3/lib/python3.12/site-packages/ipykernel/kernelapp.py\", line 229, in _try_bind_socket\n",
      "    s.bind(\"tcp://%s:%i\" % (self.ip, port))\n",
      "  File \"/opt/anaconda3/lib/python3.12/site-packages/zmq/sugar/socket.py\", line 302, in bind\n",
      "    super().bind(addr)\n",
      "  File \"zmq/backend/cython/socket.pyx\", line 564, in zmq.backend.cython.socket.Socket.bind\n",
      "  File \"zmq/backend/cython/checkrc.pxd\", line 28, in zmq.backend.cython.checkrc._check_rc\n",
      "zmq.error.ZMQError: Address already in use (addr='tcp://127.0.0.1:53469')\n"
     ]
    },
    {
     "ename": "SystemExit",
     "evalue": "1",
     "output_type": "error",
     "traceback": [
      "An exception has occurred, use %tb to see the full traceback.\n",
      "\u001b[0;31mSystemExit\u001b[0m\u001b[0;31m:\u001b[0m 1\n"
     ]
    },
    {
     "name": "stderr",
     "output_type": "stream",
     "text": [
      "/opt/anaconda3/lib/python3.12/site-packages/IPython/core/interactiveshell.py:3585: UserWarning: To exit: use 'exit', 'quit', or Ctrl-D.\n",
      "  warn(\"To exit: use 'exit', 'quit', or Ctrl-D.\", stacklevel=1)\n"
     ]
    }
   ],
   "source": [
    "from flask import Flask, render_template_string\n",
    "import pandas as pd\n",
    "\n",
    "app = Flask(__name__)\n",
    "\n",
    "table = {\n",
    "    'Org': ['Org1', 'Org2', 'Org3'],\n",
    "    'Technologies': ['Python', 'JavaScript', 'Java'],\n",
    "    'Slots': ['10', '5', '15'],\n",
    "    'Ideas Page': ['Link1', 'Link2', 'Link3'],\n",
    "    'Contact': ['email1@example.com', 'email2@example.com', 'email3@example.com']\n",
    "}\n",
    "df = pd.DataFrame(table)\n",
    "\n",
    "HTML_TEMPLATE = \"\"\"\n",
    "<!DOCTYPE html>\n",
    "<html>\n",
    "<head>\n",
    "    <title>Web Scraping Output</title>\n",
    "    <style>\n",
    "        table { border-collapse: collapse; width: 80%; margin: auto; }\n",
    "        th, td { border: 1px solid black; padding: 10px; text-align: center; }\n",
    "        th { background-color: #f2f2f2; }\n",
    "    </style>\n",
    "</head>\n",
    "<body>\n",
    "    <h1 style=\"text-align: center;\">Scraped Data</h1>\n",
    "    <table>\n",
    "        <thead>\n",
    "            <tr>\n",
    "                {% for col in columns %}\n",
    "                <th>{{ col }}</th>\n",
    "                {% endfor %}\n",
    "            </tr>\n",
    "        </thead>\n",
    "        <tbody>\n",
    "            {% for row in data %}\n",
    "            <tr>\n",
    "                {% for item in row %}\n",
    "                <td>{{ item }}</td>\n",
    "                {% endfor %}\n",
    "            </tr>\n",
    "            {% endfor %}\n",
    "        </tbody>\n",
    "    </table>\n",
    "</body>\n",
    "</html>\n",
    "\"\"\"\n",
    "\n",
    "@app.route('/')\n",
    "def home():\n",
    "    return render_template_string(HTML_TEMPLATE, columns=df.columns, data=df.values)\n",
    "\n",
    "if __name__ == '__main__':\n",
    "    app.run(debug=True)\n"
   ]
  },
  {
   "cell_type": "code",
   "execution_count": null,
   "id": "e5648374-4bcd-437f-bd83-87a939ecbb0c",
   "metadata": {},
   "outputs": [],
   "source": []
  },
  {
   "cell_type": "code",
   "execution_count": null,
   "id": "6460689d-eb38-41a8-ad39-8edf053d2131",
   "metadata": {},
   "outputs": [],
   "source": []
  }
 ],
 "metadata": {
  "kernelspec": {
   "display_name": "Python 3 (ipykernel)",
   "language": "python",
   "name": "python3"
  },
  "language_info": {
   "codemirror_mode": {
    "name": "ipython",
    "version": 3
   },
   "file_extension": ".py",
   "mimetype": "text/x-python",
   "name": "python",
   "nbconvert_exporter": "python",
   "pygments_lexer": "ipython3",
   "version": "3.12.7"
  }
 },
 "nbformat": 4,
 "nbformat_minor": 5
}
